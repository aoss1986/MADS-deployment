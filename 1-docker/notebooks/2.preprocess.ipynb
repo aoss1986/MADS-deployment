{
 "cells": [
  {
   "cell_type": "code",
   "execution_count": 3,
   "metadata": {},
   "outputs": [
    {
     "data": {
      "text/plain": [
       "True"
      ]
     },
     "execution_count": 3,
     "metadata": {},
     "output_type": "execute_result"
    }
   ],
   "source": [
    "from pathlib import Path\n",
    "from loguru import logger\n",
    "datadir = Path('data/raw').resolve()\n",
    "datadir.exists()"
   ]
  },
  {
   "cell_type": "markdown",
   "metadata": {},
   "source": [
    "# Qanon"
   ]
  },
  {
   "cell_type": "markdown",
   "metadata": {},
   "source": [
    "QAnon emerged on 4chan in 2017 as anonymous posts (\"Q drops\") claiming to be from a government insider exposing a supposed deep state conspiracy. The poster(s) alleged that Donald Trump was fighting a secret war against corrupt elites.\n",
    "The movement gained significant following and influenced real-world events, including:\n",
    "\n",
    "- The January 6th Capitol riot, where many participants expressed QAnon beliefs\n",
    "- Multiple incidents of violence/threats by believers\n",
    "- Spread of misinformation during COVID-19 pandemic"
   ]
  },
  {
   "cell_type": "markdown",
   "metadata": {},
   "source": [
    "<img src=\"img/Qanon.png\" width=450 height=400 />"
   ]
  },
  {
   "cell_type": "markdown",
   "metadata": {},
   "source": [
    "We will attempt to analyze authorship, using basic NLP techniques. This is valuable as it could provide insights into the origins and evolution of this influential movement.\n",
    "\n",
    "So lets preprocess the data, by adding and timebins based on the image shown above."
   ]
  },
  {
   "cell_type": "code",
   "execution_count": 4,
   "metadata": {},
   "outputs": [],
   "source": [
    "from pandas import json_normalize\n",
    "import json\n",
    "\n",
    "datafile = datadir / 'posts.json'\n",
    "with datafile.open() as f:\n",
    "    df = json_normalize(json.load(f)[\"posts\"], sep=\"_\")"
   ]
  },
  {
   "cell_type": "code",
   "execution_count": 5,
   "metadata": {},
   "outputs": [
    {
     "data": {
      "text/html": [
       "<div>\n",
       "<style scoped>\n",
       "    .dataframe tbody tr th:only-of-type {\n",
       "        vertical-align: middle;\n",
       "    }\n",
       "\n",
       "    .dataframe tbody tr th {\n",
       "        vertical-align: top;\n",
       "    }\n",
       "\n",
       "    .dataframe thead th {\n",
       "        text-align: right;\n",
       "    }\n",
       "</style>\n",
       "<table border=\"1\" class=\"dataframe\">\n",
       "  <thead>\n",
       "    <tr style=\"text-align: right;\">\n",
       "      <th></th>\n",
       "      <th>text</th>\n",
       "      <th>referenced_posts</th>\n",
       "      <th>post_metadata_author</th>\n",
       "      <th>post_metadata_source_board</th>\n",
       "      <th>post_metadata_source_site</th>\n",
       "      <th>post_metadata_time</th>\n",
       "      <th>post_metadata_id</th>\n",
       "      <th>images</th>\n",
       "      <th>post_metadata_tripcode</th>\n",
       "      <th>post_metadata_source_link</th>\n",
       "    </tr>\n",
       "  </thead>\n",
       "  <tbody>\n",
       "    <tr>\n",
       "      <th>0</th>\n",
       "      <td>&gt;&gt;147005381\\nHRC extradition already in motion...</td>\n",
       "      <td>[{'reference': '&gt;&gt;147005381', 'text': '&gt;&gt;14698...</td>\n",
       "      <td>Anonymous</td>\n",
       "      <td>/pol</td>\n",
       "      <td>4ch</td>\n",
       "      <td>1509223468</td>\n",
       "      <td>1</td>\n",
       "      <td>NaN</td>\n",
       "      <td>NaN</td>\n",
       "      <td>NaN</td>\n",
       "    </tr>\n",
       "    <tr>\n",
       "      <th>1</th>\n",
       "      <td>Mockingbird \\nHRC detained, not arrested (yet)...</td>\n",
       "      <td>NaN</td>\n",
       "      <td>Anonymous</td>\n",
       "      <td>/pol</td>\n",
       "      <td>4ch</td>\n",
       "      <td>1509228948</td>\n",
       "      <td>2</td>\n",
       "      <td>NaN</td>\n",
       "      <td>NaN</td>\n",
       "      <td>NaN</td>\n",
       "    </tr>\n",
       "    <tr>\n",
       "      <th>2</th>\n",
       "      <td>Open your eyes.\\nIt finally came out that Rod/...</td>\n",
       "      <td>NaN</td>\n",
       "      <td>Anonymous</td>\n",
       "      <td>/pol</td>\n",
       "      <td>4ch</td>\n",
       "      <td>1509292027</td>\n",
       "      <td>3</td>\n",
       "      <td>NaN</td>\n",
       "      <td>NaN</td>\n",
       "      <td>NaN</td>\n",
       "    </tr>\n",
       "    <tr>\n",
       "      <th>3</th>\n",
       "      <td>Some of us come here to drop crumbs, just crum...</td>\n",
       "      <td>NaN</td>\n",
       "      <td>Anonymous</td>\n",
       "      <td>/pol</td>\n",
       "      <td>4ch</td>\n",
       "      <td>1509293500</td>\n",
       "      <td>4</td>\n",
       "      <td>NaN</td>\n",
       "      <td>NaN</td>\n",
       "      <td>NaN</td>\n",
       "    </tr>\n",
       "    <tr>\n",
       "      <th>4</th>\n",
       "      <td>Follow the money, it’s the key.\\nWhat is Pelos...</td>\n",
       "      <td>NaN</td>\n",
       "      <td>Anonymous</td>\n",
       "      <td>/pol</td>\n",
       "      <td>4ch</td>\n",
       "      <td>1509295638</td>\n",
       "      <td>5</td>\n",
       "      <td>NaN</td>\n",
       "      <td>NaN</td>\n",
       "      <td>NaN</td>\n",
       "    </tr>\n",
       "  </tbody>\n",
       "</table>\n",
       "</div>"
      ],
      "text/plain": [
       "                                                text  \\\n",
       "0  >>147005381\\nHRC extradition already in motion...   \n",
       "1  Mockingbird \\nHRC detained, not arrested (yet)...   \n",
       "2  Open your eyes.\\nIt finally came out that Rod/...   \n",
       "3  Some of us come here to drop crumbs, just crum...   \n",
       "4  Follow the money, it’s the key.\\nWhat is Pelos...   \n",
       "\n",
       "                                    referenced_posts post_metadata_author  \\\n",
       "0  [{'reference': '>>147005381', 'text': '>>14698...            Anonymous   \n",
       "1                                                NaN            Anonymous   \n",
       "2                                                NaN            Anonymous   \n",
       "3                                                NaN            Anonymous   \n",
       "4                                                NaN            Anonymous   \n",
       "\n",
       "  post_metadata_source_board post_metadata_source_site  post_metadata_time  \\\n",
       "0                       /pol                       4ch          1509223468   \n",
       "1                       /pol                       4ch          1509228948   \n",
       "2                       /pol                       4ch          1509292027   \n",
       "3                       /pol                       4ch          1509293500   \n",
       "4                       /pol                       4ch          1509295638   \n",
       "\n",
       "   post_metadata_id images post_metadata_tripcode post_metadata_source_link  \n",
       "0                 1    NaN                    NaN                       NaN  \n",
       "1                 2    NaN                    NaN                       NaN  \n",
       "2                 3    NaN                    NaN                       NaN  \n",
       "3                 4    NaN                    NaN                       NaN  \n",
       "4                 5    NaN                    NaN                       NaN  "
      ]
     },
     "execution_count": 5,
     "metadata": {},
     "output_type": "execute_result"
    }
   ],
   "source": [
    "df.head()"
   ]
  },
  {
   "cell_type": "code",
   "execution_count": 6,
   "metadata": {},
   "outputs": [],
   "source": [
    "from datetime import datetime\n",
    "import pandas as pd\n",
    "import re\n",
    "\n",
    "def bin_time(time):\n",
    "    if time < datetime(2017, 12, 1):\n",
    "        return 0\n",
    "    elif time < datetime(2018, 1, 1):\n",
    "        return 1\n",
    "    elif time < datetime(2018, 8, 10):\n",
    "        return 2\n",
    "    elif time < datetime(2019, 8, 1):\n",
    "        return 3\n",
    "    else:\n",
    "        return 4\n",
    "\n",
    "def remove_url(text):\n",
    "    return re.sub(r'^https?:\\/\\/.*[\\r\\n]*', '', text)\n",
    "\n",
    "df[\"time\"] = df[\"post_metadata_time\"].apply(pd.to_datetime, unit=\"s\")\n",
    "df[\"bintime\"] = df[\"time\"].apply(lambda x : bin_time(x))\n",
    "df[\"text\"] = df[\"text\"].apply(lambda x : str(x).replace(\"\\n\", \" \"))\n",
    "df[\"text\"] = df[\"text\"].apply(lambda x : remove_url(x))\n",
    "df[\"text\"] = df[\"text\"].apply(lambda x : x.lower())\n",
    "df['size'] = df['text'].apply(lambda x : len(str(x)))\n",
    "df = df[df[\"size\"] > 50]\n",
    "df.reset_index(inplace=True, drop=True)"
   ]
  },
  {
   "cell_type": "code",
   "execution_count": null,
   "metadata": {},
   "outputs": [],
   "source": [
    "processeddir = Path(\"data/processed\").resolve()\n",
    "if not processeddir.exists():\n",
    "    logger.info(f\"Creating directory {processeddir}\")\n",
    "    processeddir.mkdir(parents=True)\n",
    "outputfile = processeddir / Path(\"posts.parquet\")\n",
    "df.to_parquet(outputfile)"
   ]
  }
 ],
 "metadata": {
  "kernelspec": {
   "display_name": ".venv",
   "language": "python",
   "name": "python3"
  },
  "language_info": {
   "codemirror_mode": {
    "name": "ipython",
    "version": 3
   },
   "file_extension": ".py",
   "mimetype": "text/x-python",
   "name": "python",
   "nbconvert_exporter": "python",
   "pygments_lexer": "ipython3",
   "version": "3.12.5"
  }
 },
 "nbformat": 4,
 "nbformat_minor": 2
}
