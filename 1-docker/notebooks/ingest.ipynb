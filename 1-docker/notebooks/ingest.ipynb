{
 "cells": [
  {
   "cell_type": "code",
   "execution_count": 1,
   "metadata": {},
   "outputs": [],
   "source": [
    "import requests\n",
    "from pathlib import Path\n",
    "from loguru import logger\n",
    "\n",
    "\n",
    "def download(url, datafile: Path):\n",
    "    datadir = datafile.parent\n",
    "    if not datadir.exists():\n",
    "        logger.info(f\"Creating directory {datadir}\")\n",
    "        datadir.mkdir(parents=True)\n",
    "\n",
    "    if not datafile.exists():\n",
    "        logger.info(f\"Downloading {url} to {datafile}\")\n",
    "        response = requests.get(url)\n",
    "        with datafile.open(\"wb\") as f:\n",
    "            f.write(response.content)\n",
    "    else:\n",
    "        logger.info(f\"File {datafile} already exists, skipping download\")"
   ]
  },
  {
   "cell_type": "markdown",
   "metadata": {},
   "source": [
    "This is a simple script to download files from a given URL. It uses the `requests` library to download the files. "
   ]
  },
  {
   "cell_type": "code",
   "execution_count": 2,
   "metadata": {},
   "outputs": [
    {
     "name": "stderr",
     "output_type": "stream",
     "text": [
      "\u001b[32m2024-12-08 13:42:18.024\u001b[0m | \u001b[1mINFO    \u001b[0m | \u001b[36m__main__\u001b[0m:\u001b[36mdownload\u001b[0m:\u001b[36m9\u001b[0m - \u001b[1mCreating directory data/raw\u001b[0m\n",
      "\u001b[32m2024-12-08 13:42:18.026\u001b[0m | \u001b[1mINFO    \u001b[0m | \u001b[36m__main__\u001b[0m:\u001b[36mdownload\u001b[0m:\u001b[36m13\u001b[0m - \u001b[1mDownloading https://raw.githubusercontent.com/jkingsman/JSON-QAnon/main/posts.json to data/raw/posts.json\u001b[0m\n"
     ]
    }
   ],
   "source": [
    "url = \"https://raw.githubusercontent.com/jkingsman/JSON-QAnon/main/posts.json\"\n",
    "datadir = Path(\"data/raw\")\n",
    "datafile = datadir / Path(\"posts.json\")\n",
    "download(url, datafile)"
   ]
  },
  {
   "cell_type": "markdown",
   "metadata": {},
   "source": [
    "It is also possible to use it with a forloop to download multiple files from a list of URLs."
   ]
  },
  {
   "cell_type": "code",
   "execution_count": 3,
   "metadata": {},
   "outputs": [
    {
     "name": "stderr",
     "output_type": "stream",
     "text": [
      "\u001b[32m2024-12-08 13:42:18.624\u001b[0m | \u001b[1mINFO    \u001b[0m | \u001b[36m__main__\u001b[0m:\u001b[36mdownload\u001b[0m:\u001b[36m9\u001b[0m - \u001b[1mCreating directory data/raw/tanach\u001b[0m\n",
      "\u001b[32m2024-12-08 13:42:18.626\u001b[0m | \u001b[1mINFO    \u001b[0m | \u001b[36m__main__\u001b[0m:\u001b[36mdownload\u001b[0m:\u001b[36m13\u001b[0m - \u001b[1mDownloading https://www.tanach.us/Server.txt?Genesis*&content=Accents to data/raw/tanach/Genesis.txt\u001b[0m\n",
      "\u001b[32m2024-12-08 13:42:19.703\u001b[0m | \u001b[1mINFO    \u001b[0m | \u001b[36m__main__\u001b[0m:\u001b[36mdownload\u001b[0m:\u001b[36m13\u001b[0m - \u001b[1mDownloading https://www.tanach.us/Server.txt?Exodus*&content=Accents to data/raw/tanach/Exodus.txt\u001b[0m\n",
      "\u001b[32m2024-12-08 13:42:20.698\u001b[0m | \u001b[1mINFO    \u001b[0m | \u001b[36m__main__\u001b[0m:\u001b[36mdownload\u001b[0m:\u001b[36m13\u001b[0m - \u001b[1mDownloading https://www.tanach.us/Server.txt?Leviticus*&content=Accents to data/raw/tanach/Leviticus.txt\u001b[0m\n",
      "\u001b[32m2024-12-08 13:42:21.698\u001b[0m | \u001b[1mINFO    \u001b[0m | \u001b[36m__main__\u001b[0m:\u001b[36mdownload\u001b[0m:\u001b[36m13\u001b[0m - \u001b[1mDownloading https://www.tanach.us/Server.txt?Numbers*&content=Accents to data/raw/tanach/Numbers.txt\u001b[0m\n",
      "\u001b[32m2024-12-08 13:42:22.593\u001b[0m | \u001b[1mINFO    \u001b[0m | \u001b[36m__main__\u001b[0m:\u001b[36mdownload\u001b[0m:\u001b[36m13\u001b[0m - \u001b[1mDownloading https://www.tanach.us/Server.txt?Deuteronomy*&content=Accents to data/raw/tanach/Deuteronomy.txt\u001b[0m\n",
      "\u001b[32m2024-12-08 13:42:23.490\u001b[0m | \u001b[1mINFO    \u001b[0m | \u001b[36m__main__\u001b[0m:\u001b[36mdownload\u001b[0m:\u001b[36m13\u001b[0m - \u001b[1mDownloading https://www.tanach.us/Server.txt?Joshua*&content=Accents to data/raw/tanach/Joshua.txt\u001b[0m\n",
      "\u001b[32m2024-12-08 13:42:24.257\u001b[0m | \u001b[1mINFO    \u001b[0m | \u001b[36m__main__\u001b[0m:\u001b[36mdownload\u001b[0m:\u001b[36m13\u001b[0m - \u001b[1mDownloading https://www.tanach.us/Server.txt?Judges*&content=Accents to data/raw/tanach/Judges.txt\u001b[0m\n",
      "\u001b[32m2024-12-08 13:42:25.308\u001b[0m | \u001b[1mINFO    \u001b[0m | \u001b[36m__main__\u001b[0m:\u001b[36mdownload\u001b[0m:\u001b[36m13\u001b[0m - \u001b[1mDownloading https://www.tanach.us/Server.txt?1%20Samuel*&content=Accents to data/raw/tanach/1_Samuel.txt\u001b[0m\n",
      "\u001b[32m2024-12-08 13:42:26.330\u001b[0m | \u001b[1mINFO    \u001b[0m | \u001b[36m__main__\u001b[0m:\u001b[36mdownload\u001b[0m:\u001b[36m13\u001b[0m - \u001b[1mDownloading https://www.tanach.us/Server.txt?2%20Samuel*&content=Accents to data/raw/tanach/2_Samuel.txt\u001b[0m\n",
      "\u001b[32m2024-12-08 13:42:27.489\u001b[0m | \u001b[1mINFO    \u001b[0m | \u001b[36m__main__\u001b[0m:\u001b[36mdownload\u001b[0m:\u001b[36m13\u001b[0m - \u001b[1mDownloading https://www.tanach.us/Server.txt?1%20Kings*&content=Accents to data/raw/tanach/1_Kings.txt\u001b[0m\n",
      "\u001b[32m2024-12-08 13:42:28.371\u001b[0m | \u001b[1mINFO    \u001b[0m | \u001b[36m__main__\u001b[0m:\u001b[36mdownload\u001b[0m:\u001b[36m13\u001b[0m - \u001b[1mDownloading https://www.tanach.us/Server.txt?2%20Kings*&content=Accents to data/raw/tanach/2_Kings.txt\u001b[0m\n",
      "\u001b[32m2024-12-08 13:42:29.164\u001b[0m | \u001b[1mINFO    \u001b[0m | \u001b[36m__main__\u001b[0m:\u001b[36mdownload\u001b[0m:\u001b[36m13\u001b[0m - \u001b[1mDownloading https://www.tanach.us/Server.txt?Isaiah*&content=Accents to data/raw/tanach/Isaiah.txt\u001b[0m\n",
      "\u001b[32m2024-12-08 13:42:30.057\u001b[0m | \u001b[1mINFO    \u001b[0m | \u001b[36m__main__\u001b[0m:\u001b[36mdownload\u001b[0m:\u001b[36m13\u001b[0m - \u001b[1mDownloading https://www.tanach.us/Server.txt?Jeremiah*&content=Accents to data/raw/tanach/Jeremiah.txt\u001b[0m\n",
      "\u001b[32m2024-12-08 13:42:31.021\u001b[0m | \u001b[1mINFO    \u001b[0m | \u001b[36m__main__\u001b[0m:\u001b[36mdownload\u001b[0m:\u001b[36m13\u001b[0m - \u001b[1mDownloading https://www.tanach.us/Server.txt?Ezekiel*&content=Accents to data/raw/tanach/Ezekiel.txt\u001b[0m\n",
      "\u001b[32m2024-12-08 13:42:31.889\u001b[0m | \u001b[1mINFO    \u001b[0m | \u001b[36m__main__\u001b[0m:\u001b[36mdownload\u001b[0m:\u001b[36m13\u001b[0m - \u001b[1mDownloading https://www.tanach.us/Server.txt?Hosea*&content=Accents to data/raw/tanach/Hosea.txt\u001b[0m\n",
      "\u001b[32m2024-12-08 13:42:32.676\u001b[0m | \u001b[1mINFO    \u001b[0m | \u001b[36m__main__\u001b[0m:\u001b[36mdownload\u001b[0m:\u001b[36m13\u001b[0m - \u001b[1mDownloading https://www.tanach.us/Server.txt?Joel*&content=Accents to data/raw/tanach/Joel.txt\u001b[0m\n",
      "\u001b[32m2024-12-08 13:42:33.136\u001b[0m | \u001b[1mINFO    \u001b[0m | \u001b[36m__main__\u001b[0m:\u001b[36mdownload\u001b[0m:\u001b[36m13\u001b[0m - \u001b[1mDownloading https://www.tanach.us/Server.txt?Amos*&content=Accents to data/raw/tanach/Amos.txt\u001b[0m\n",
      "\u001b[32m2024-12-08 13:42:33.702\u001b[0m | \u001b[1mINFO    \u001b[0m | \u001b[36m__main__\u001b[0m:\u001b[36mdownload\u001b[0m:\u001b[36m13\u001b[0m - \u001b[1mDownloading https://www.tanach.us/Server.txt?Obadiah*&content=Accents to data/raw/tanach/Obadiah.txt\u001b[0m\n",
      "\u001b[32m2024-12-08 13:42:34.066\u001b[0m | \u001b[1mINFO    \u001b[0m | \u001b[36m__main__\u001b[0m:\u001b[36mdownload\u001b[0m:\u001b[36m13\u001b[0m - \u001b[1mDownloading https://www.tanach.us/Server.txt?Jonah*&content=Accents to data/raw/tanach/Jonah.txt\u001b[0m\n",
      "\u001b[32m2024-12-08 13:42:34.536\u001b[0m | \u001b[1mINFO    \u001b[0m | \u001b[36m__main__\u001b[0m:\u001b[36mdownload\u001b[0m:\u001b[36m13\u001b[0m - \u001b[1mDownloading https://www.tanach.us/Server.txt?Micah*&content=Accents to data/raw/tanach/Micah.txt\u001b[0m\n",
      "\u001b[32m2024-12-08 13:42:34.991\u001b[0m | \u001b[1mINFO    \u001b[0m | \u001b[36m__main__\u001b[0m:\u001b[36mdownload\u001b[0m:\u001b[36m13\u001b[0m - \u001b[1mDownloading https://www.tanach.us/Server.txt?Nahum*&content=Accents to data/raw/tanach/Nahum.txt\u001b[0m\n",
      "\u001b[32m2024-12-08 13:42:35.459\u001b[0m | \u001b[1mINFO    \u001b[0m | \u001b[36m__main__\u001b[0m:\u001b[36mdownload\u001b[0m:\u001b[36m13\u001b[0m - \u001b[1mDownloading https://www.tanach.us/Server.txt?Habakkuk*&content=Accents to data/raw/tanach/Habakkuk.txt\u001b[0m\n",
      "\u001b[32m2024-12-08 13:42:35.930\u001b[0m | \u001b[1mINFO    \u001b[0m | \u001b[36m__main__\u001b[0m:\u001b[36mdownload\u001b[0m:\u001b[36m13\u001b[0m - \u001b[1mDownloading https://www.tanach.us/Server.txt?Zephaniah*&content=Accents to data/raw/tanach/Zephaniah.txt\u001b[0m\n",
      "\u001b[32m2024-12-08 13:42:36.393\u001b[0m | \u001b[1mINFO    \u001b[0m | \u001b[36m__main__\u001b[0m:\u001b[36mdownload\u001b[0m:\u001b[36m13\u001b[0m - \u001b[1mDownloading https://www.tanach.us/Server.txt?Haggai*&content=Accents to data/raw/tanach/Haggai.txt\u001b[0m\n",
      "\u001b[32m2024-12-08 13:42:36.845\u001b[0m | \u001b[1mINFO    \u001b[0m | \u001b[36m__main__\u001b[0m:\u001b[36mdownload\u001b[0m:\u001b[36m13\u001b[0m - \u001b[1mDownloading https://www.tanach.us/Server.txt?Zechariah*&content=Accents to data/raw/tanach/Zechariah.txt\u001b[0m\n",
      "\u001b[32m2024-12-08 13:42:37.428\u001b[0m | \u001b[1mINFO    \u001b[0m | \u001b[36m__main__\u001b[0m:\u001b[36mdownload\u001b[0m:\u001b[36m13\u001b[0m - \u001b[1mDownloading https://www.tanach.us/Server.txt?Malachi*&content=Accents to data/raw/tanach/Malachi.txt\u001b[0m\n"
     ]
    }
   ],
   "source": [
    "import re\n",
    "books = [\"Genesis\", \"Exodus\", \"Leviticus\", \"Numbers\", \"Deuteronomy\", \"Joshua\",\n",
    "    \"Judges\",\n",
    "    \"1%20Samuel\",\n",
    "    \"2%20Samuel\",\n",
    "    \"1%20Kings\",\n",
    "    \"2%20Kings\",\n",
    "    \"Isaiah\",\n",
    "    \"Jeremiah\",\n",
    "    \"Ezekiel\",\n",
    "    \"Hosea\",\n",
    "    \"Joel\",\n",
    "    \"Amos\",\n",
    "    \"Obadiah\",\n",
    "    \"Jonah\",\n",
    "    \"Micah\",\n",
    "    \"Nahum\",\n",
    "    \"Habakkuk\",\n",
    "    \"Zephaniah\",\n",
    "    \"Haggai\",\n",
    "    \"Zechariah\",\n",
    "    \"Malachi\"\n",
    "]\n",
    "\n",
    "\n",
    "for book in books:\n",
    "    url = f\"https://www.tanach.us/Server.txt?{book}*&content=Accents\"\n",
    "    filename = re.sub(r\"%20\", \"_\", book)\n",
    "    datafile = datadir / \"tanach\" / Path(f\"{filename}.txt\")\n",
    "    download(url, datafile)\n"
   ]
  }
 ],
 "metadata": {
  "kernelspec": {
   "display_name": ".venv",
   "language": "python",
   "name": "python3"
  },
  "language_info": {
   "codemirror_mode": {
    "name": "ipython",
    "version": 3
   },
   "file_extension": ".py",
   "mimetype": "text/x-python",
   "name": "python",
   "nbconvert_exporter": "python",
   "pygments_lexer": "ipython3",
   "version": "3.12.5"
  }
 },
 "nbformat": 4,
 "nbformat_minor": 2
}
